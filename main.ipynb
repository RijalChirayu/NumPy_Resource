{
 "cells": [
  {
   "attachments": {},
   "cell_type": "markdown",
   "metadata": {},
   "source": [
    "# NumPy "
   ]
  },
  {
   "attachments": {},
   "cell_type": "markdown",
   "metadata": {},
   "source": [
    "1. NumPy is a Python library used for working with arrays.\n",
    "2. It also has functions for working in domain of linear \n",
    "   algebra, fourier transform, and matrices.\n",
    "3. It was created in 2005 by Travis Oliphant.\n",
    "4. NumPy aims to provide an array object that is 50x faster \n",
    "   than traditional Python Lists.\n",
    "5. NumPy arrays are stored at one continuous place in memory \n",
    "   unlike lists, so processes can access and manipulate them \n",
    "   very efficiently."
   ]
  },
  {
   "cell_type": "code",
   "execution_count": 4,
   "metadata": {},
   "outputs": [
    {
     "name": "stdout",
     "output_type": "stream",
     "text": [
      "[1 2 3 4 5]\n",
      "<class 'numpy.ndarray'>\n"
     ]
    }
   ],
   "source": [
    "import numpy as np #importing numpy module as np\n",
    "\n",
    "arr = np.array([1,2,3,4,5]) #creating an array using numpy\n",
    "print(arr)\n",
    "print(type(arr))"
   ]
  },
  {
   "cell_type": "code",
   "execution_count": 17,
   "metadata": {},
   "outputs": [
    {
     "name": "stdout",
     "output_type": "stream",
     "text": [
      "1.24.2\n"
     ]
    }
   ],
   "source": [
    "#We can check numpy version  by following code\n",
    "print(np.__version__)"
   ]
  },
  {
   "attachments": {},
   "cell_type": "markdown",
   "metadata": {},
   "source": [
    "As we already know Numpy is used to work with arrays. The \n",
    "array object in Numpy is called ndarray. "
   ]
  },
  {
   "attachments": {},
   "cell_type": "markdown",
   "metadata": {},
   "source": [
    "# Dimensions in array"
   ]
  },
  {
   "cell_type": "code",
   "execution_count": 6,
   "metadata": {},
   "outputs": [
    {
     "name": "stdout",
     "output_type": "stream",
     "text": [
      "10\n"
     ]
    }
   ],
   "source": [
    "#0-D arrays, or Scalars, are the elements in an array.\n",
    "arr = np.array(10)\n",
    "print(arr)"
   ]
  },
  {
   "cell_type": "code",
   "execution_count": 7,
   "metadata": {},
   "outputs": [
    {
     "name": "stdout",
     "output_type": "stream",
     "text": [
      "[1 2 3 4 5]\n"
     ]
    }
   ],
   "source": [
    "#1-D arrays are arrays that has 0-D arrays as its elements .\n",
    "#It is also called uni-dimensional array. Its the most basic array.\n",
    "import numpy as np \n",
    "\n",
    "arr = np.array([1,2,3,4,5]) \n",
    "print(arr)\n"
   ]
  },
  {
   "cell_type": "code",
   "execution_count": 9,
   "metadata": {},
   "outputs": [
    {
     "name": "stdout",
     "output_type": "stream",
     "text": [
      "[[ 1  2  3  4  5]\n",
      " [ 6  7  8  9 10]]\n"
     ]
    }
   ],
   "source": [
    "#2-D array contains 1-D arrays as its elements.\n",
    "arr = np.array([[1,2,3,4,5],[6,7,8,9,10]])\n",
    "print(arr)"
   ]
  },
  {
   "cell_type": "code",
   "execution_count": null,
   "metadata": {},
   "outputs": [],
   "source": [
    "#3-D arrays contain 2-D arrays as its elements.\n",
    "import numpy as np\n",
    "arr = np.array([[[1,2,3,4,],[5,6,7,8,9]]])\n",
    "print(arr)"
   ]
  },
  {
   "attachments": {},
   "cell_type": "markdown",
   "metadata": {},
   "source": [
    "Checking dimension of array"
   ]
  },
  {
   "cell_type": "code",
   "execution_count": 19,
   "metadata": {},
   "outputs": [
    {
     "name": "stdout",
     "output_type": "stream",
     "text": [
      "0\n",
      "1\n",
      "2\n",
      "3\n"
     ]
    }
   ],
   "source": [
    "import numpy as np\n",
    "\n",
    "a = np.array(15)\n",
    "b = np.array([1,2,3,4,5])\n",
    "c = np.array([[1,2,3,4],[5,6,7,8]])\n",
    "d = np.array([[[1, 2, 3], [4, 5, 6]], [[1, 2, 3], [4, 5, 6]]])\n",
    "print(a.ndim)\n",
    "print(b.ndim)\n",
    "print(c.ndim)\n",
    "print(d.ndim)"
   ]
  },
  {
   "attachments": {},
   "cell_type": "markdown",
   "metadata": {},
   "source": [
    "# Higher Dimensional Arrays"
   ]
  },
  {
   "cell_type": "code",
   "execution_count": 2,
   "metadata": {},
   "outputs": [
    {
     "name": "stdout",
     "output_type": "stream",
     "text": [
      "[[[[[1 2 3 4]]]]]\n",
      "5\n"
     ]
    }
   ],
   "source": [
    "import numpy as np\n",
    "arr = np.array([1,2,3,4], ndmin = 5)\n",
    "print(arr)\n",
    "print(arr.ndim)"
   ]
  },
  {
   "cell_type": "code",
   "execution_count": 8,
   "metadata": {},
   "outputs": [
    {
     "name": "stdout",
     "output_type": "stream",
     "text": [
      "1\n",
      "15\n"
     ]
    }
   ],
   "source": [
    "#NumPy array indexing is same as accessing an array element.\n",
    "import numpy as np\n",
    "\n",
    "my_array = np.array([1,2,3,4,5])\n",
    "print(my_array[0])\n",
    "#we can also iterate through the array using for loop\n",
    "sum = 0\n",
    "for i in my_array:\n",
    "    sum += i \n",
    "print(sum)"
   ]
  },
  {
   "cell_type": "code",
   "execution_count": 9,
   "metadata": {},
   "outputs": [
    {
     "name": "stdout",
     "output_type": "stream",
     "text": [
      "2\n",
      "8\n"
     ]
    }
   ],
   "source": [
    "import numpy as np\n",
    "#accessing 2-D and 3-D arrays\n",
    "my_array2D = np.array([[1,2,3],[4,5,6]])\n",
    "print(my_array2D[0,1]) #Prints 2 from the first 1-D array.\n",
    "\n",
    "# we can get access to 3-D array in the same way.\n",
    "my_array3D = np.array([[[1,2,3],[4,5,6]],[[7,8,9],[10,11,12]]])\n",
    "print(my_array3D[1,0,1]) #Prints out 8 from the second 2D array."
   ]
  },
  {
   "cell_type": "code",
   "execution_count": 11,
   "metadata": {},
   "outputs": [
    {
     "name": "stdout",
     "output_type": "stream",
     "text": [
      "4\n"
     ]
    }
   ],
   "source": [
    "#Negative Indexing\n",
    "import numpy as np\n",
    "\n",
    "my_array = np.array([[1,2,3,4,5],[6,7,8,9,10]])\n",
    "print(my_array[0,-2]) #prints 4 from the first 1-D array"
   ]
  },
  {
   "attachments": {},
   "cell_type": "markdown",
   "metadata": {},
   "source": [
    "### Slicing arrays"
   ]
  },
  {
   "cell_type": "code",
   "execution_count": 18,
   "metadata": {},
   "outputs": [
    {
     "name": "stdout",
     "output_type": "stream",
     "text": [
      "[3 4 5 6]\n",
      "[5 6 7]\n",
      "[1 2 3 4]\n",
      "[5 6]\n",
      "[2 4]\n",
      "[1 3 5 7]\n"
     ]
    }
   ],
   "source": [
    "#Slicing in python means taking elemenst from one given index to another given index.\n",
    "#array[start:end:step] same as we do with traditional python arrays.\n",
    "import numpy as np\n",
    "\n",
    "my_array = np.array([1,2,3,4,5,6,7])\n",
    "print(my_array[2:6]) #will print from 3 to 6\n",
    "print(my_array[4:]) #will print from element of index to end of array\n",
    "print(my_array[:4]) #will print from first element till index 3\n",
    "print(my_array[-3:-1]) #will print from negative 3 index till negative 1 but won't include it.\n",
    "\n",
    "#Step value is used to determine the step of slicing\n",
    "print(my_array[1:5:2]) #will print 2 and 4 after skipping indexes 1 and 3\n",
    "print(my_array[::2]) #will return every other element from the entire array\n"
   ]
  },
  {
   "attachments": {},
   "cell_type": "markdown",
   "metadata": {},
   "source": [
    "## Slicing 2D arrays"
   ]
  },
  {
   "cell_type": "code",
   "execution_count": 6,
   "metadata": {},
   "outputs": [
    {
     "name": "stdout",
     "output_type": "stream",
     "text": [
      "[2 3 4]\n",
      "[4 8]\n",
      "[[3 4]\n",
      " [7 8]]\n"
     ]
    }
   ],
   "source": [
    "import numpy as np\n",
    "\n",
    "my_array = np.array([[1,2,3,4,5],[5,6,7,8,9]])\n",
    "print(my_array[0, 1:4 ]) # first argument specifies which 1D arrayd to use then the slicing is as usual.\n",
    "print(my_array[0:2, 3]) #will return index three from both arrays\n",
    "print(my_array[0:2 , 2:4]) # will return from index 2-3 (4 !=included) from both arrays\n"
   ]
  },
  {
   "attachments": {},
   "cell_type": "markdown",
   "metadata": {},
   "source": [
    "# NumPy Data Types"
   ]
  },
  {
   "attachments": {},
   "cell_type": "markdown",
   "metadata": {},
   "source": [
    "NumPy data types are refered with onw character, Like i for integers, u for unsigned integers, etc.\n",
    "1. i - Integer\n",
    "2. b - boolean\n",
    "3. u - unsigned integer\n",
    "4. f - float\n",
    "5. c - complex float\n",
    "6. m - timedelta\n",
    "7. M - datetime\n",
    "8. O - object\n",
    "7. S - string\n",
    "8. U - unicode string\n",
    "9. V - fixed chink of memory for other type (void)\n"
   ]
  },
  {
   "cell_type": "code",
   "execution_count": 8,
   "metadata": {},
   "outputs": [
    {
     "name": "stdout",
     "output_type": "stream",
     "text": [
      "int32\n",
      "<U6\n"
     ]
    }
   ],
   "source": [
    "import numpy as np\n",
    "\n",
    "arr = np.array([1,2,3,4])\n",
    "arr2 = np.array(['apple', 'banana', 'mango'])\n",
    "print(arr.dtype)\n",
    "print(arr2.dtype)"
   ]
  },
  {
   "cell_type": "code",
   "execution_count": 10,
   "metadata": {},
   "outputs": [
    {
     "name": "stdout",
     "output_type": "stream",
     "text": [
      "[b'1' b'2' b'3' b'4']\n",
      "|S1\n",
      "[1 2 3 4]\n",
      "int32\n"
     ]
    }
   ],
   "source": [
    "#Creating Arrays WIth a Defined Data Type\n",
    "import numpy as np\n",
    "\n",
    "my_arr = np.array([1,2,3,4], dtype='S')\n",
    "print(my_arr)\n",
    "print(my_arr.dtype)\n",
    "\n",
    "#For i , u , f, S and U we can define size as well.\n",
    "arr = np.array([1,2,3,4], dtype = 'i4')\n",
    "print(arr)\n",
    "print(arr.dtype)"
   ]
  },
  {
   "cell_type": "code",
   "execution_count": 6,
   "metadata": {},
   "outputs": [
    {
     "name": "stdout",
     "output_type": "stream",
     "text": [
      "[1. 0. 3. 4. 5.]\n",
      "[1. 0. 3. 4. 5.]\n",
      "['1' '0' '3' '4' '5']\n",
      "[1.+0.j 0.+0.j 3.+0.j 4.+0.j 5.+0.j]\n",
      "[ True False  True  True  True]\n"
     ]
    }
   ],
   "source": [
    "import numpy as np\n",
    "\n",
    "arr = np.array([1,0,3,4,5])\n",
    "print(arr.astype('f')) #We can specify the data type by using astype method with either int.float.str or using single strings like 'f', 'i', etc.\n",
    "print(arr.astype(float))\n",
    "print(arr.astype(str))\n",
    "print(arr.astype(complex))\n",
    "print(arr.astype(bool))\n"
   ]
  },
  {
   "attachments": {},
   "cell_type": "markdown",
   "metadata": {},
   "source": [
    "# Array Copy vs View"
   ]
  },
  {
   "attachments": {},
   "cell_type": "markdown",
   "metadata": {},
   "source": [
    "1. Copy is a new array whereas , view is an array reference to the original array.\n",
    "2. Changes in the copy will not reflect in the original array . But changes in the view will reflect in the original array.\n"
   ]
  },
  {
   "cell_type": "code",
   "execution_count": 13,
   "metadata": {},
   "outputs": [
    {
     "name": "stdout",
     "output_type": "stream",
     "text": [
      "[1 2 3 4 5]\n",
      "[ 1 20  3  4  5]\n",
      "[ 1  2 30  4  5]\n",
      "[ 1  2 30  4  5]\n",
      "None\n",
      "[ 1  2 30  4  5]\n"
     ]
    }
   ],
   "source": [
    "import numpy as np\n",
    "arr = np.array([1,2,3,4,5])\n",
    "\n",
    "x = arr.copy()\n",
    "x[1] = 20\n",
    "print(arr) #There is no change in original array \n",
    "print(x) #The new array has the changes\n",
    "\n",
    "y = arr.view()\n",
    "y[2] = 30\n",
    "print(arr) #There is change in original array too!\n",
    "print(y) \n",
    "\n",
    "#We can check if the array owns the data or not.\n",
    "print(x.base)\n",
    "print(y.base)"
   ]
  },
  {
   "attachments": {},
   "cell_type": "markdown",
   "metadata": {},
   "source": [
    "# Shape of an Array"
   ]
  },
  {
   "attachments": {},
   "cell_type": "markdown",
   "metadata": {},
   "source": [
    "The shape of an array is the number of elements in each dimension."
   ]
  },
  {
   "cell_type": "code",
   "execution_count": 9,
   "metadata": {},
   "outputs": [
    {
     "name": "stdout",
     "output_type": "stream",
     "text": [
      "(2, 4)\n",
      "(4,)\n",
      "[[[[[1 2 3 4]]]]]\n",
      "(1, 1, 1, 1, 4)\n"
     ]
    }
   ],
   "source": [
    "#NumPy arrays have an attribute called shape that returns a\n",
    "#tupe with each index having the number of corresponding elements.\n",
    "import numpy as np \n",
    "arr = np.array([[1,2,3,4] , [5,6,7,8]])\n",
    "print(arr.shape) \n",
    "#returns (2,4) where first 1st dimension has  2 elements and secondhas 4\n",
    "arr1 = np.array([1,2,3,4])\n",
    "print(arr1.shape) \n",
    "#returns (4,) which shows that first dimension has 4 elements in it and there no other dimension\n",
    "arr2 = np.array([1,2,3,4] , ndmin= 5)\n",
    "print(arr2)\n",
    "print(arr2.shape)\n",
    "#here the 5th dimension has 1 element that is a 4d array . This continues until we get 4 from the 1D array."
   ]
  },
  {
   "attachments": {},
   "cell_type": "markdown",
   "metadata": {},
   "source": [
    "# NumPy Array Reshaping"
   ]
  },
  {
   "attachments": {},
   "cell_type": "markdown",
   "metadata": {},
   "source": [
    "- Reshaping arrays mean changing the shape of an array."
   ]
  },
  {
   "cell_type": "code",
   "execution_count": 3,
   "metadata": {},
   "outputs": [
    {
     "name": "stdout",
     "output_type": "stream",
     "text": [
      "[[ 1  2]\n",
      " [ 3  4]\n",
      " [ 5  6]\n",
      " [ 7  8]\n",
      " [ 9 10]]\n",
      "[[[ 1  2  3]\n",
      "  [ 4  5  6]]\n",
      "\n",
      " [[ 7  8  9]\n",
      "  [10 11 12]]]\n"
     ]
    }
   ],
   "source": [
    "#Reshaping from 1D to 2D\n",
    "import numpy as np\n",
    "\n",
    "arr = np.array([1,2,3,4,5,6,7,8,9 ,10])\n",
    "print(arr.reshape(5 , 2)) #the outermost dimension will have 5 arrays , each with 2 elements\n",
    "#Reshaping from 1D to 3D\n",
    "\n",
    "my_arr = np.array([1,2,3,4,5,6,7,8,9,10,11,12])\n",
    "newarr = my_arr.reshape(2 , 2 ,3)\n",
    "print(newarr)\n",
    "#the outermost dimension will have 2 elements , with 2 in middle and the innermost will have 3 elements each"
   ]
  },
  {
   "attachments": {},
   "cell_type": "markdown",
   "metadata": {},
   "source": [
    "- The parameters product should be equal to the shape of the array."
   ]
  },
  {
   "cell_type": "code",
   "execution_count": 4,
   "metadata": {},
   "outputs": [
    {
     "name": "stdout",
     "output_type": "stream",
     "text": [
      "[ 1  2  3  4  5  6  7  8  9 10 11 12]\n"
     ]
    }
   ],
   "source": [
    "print(newarr.base) #It returns original array so it must be a view."
   ]
  },
  {
   "attachments": {},
   "cell_type": "markdown",
   "metadata": {},
   "source": [
    "#### Unknown Dimension"
   ]
  },
  {
   "cell_type": "code",
   "execution_count": 5,
   "metadata": {},
   "outputs": [
    {
     "name": "stdout",
     "output_type": "stream",
     "text": [
      "[[[ 1  2  3]\n",
      "  [ 4  5  6]]\n",
      "\n",
      " [[ 7  8  9]\n",
      "  [10 11 12]]]\n"
     ]
    }
   ],
   "source": [
    "newarr = my_arr.reshape(2 , 2, -1)\n",
    "print(newarr)#returns the same array as above. \n",
    "#Passing -1 as the value , and NumPy will calculate this number for us .\n"
   ]
  },
  {
   "attachments": {},
   "cell_type": "markdown",
   "metadata": {},
   "source": [
    "#### Flattening the arrays"
   ]
  },
  {
   "attachments": {},
   "cell_type": "markdown",
   "metadata": {},
   "source": [
    "Flattening array means converting a multidimensional array into a 1D array"
   ]
  },
  {
   "cell_type": "code",
   "execution_count": 6,
   "metadata": {},
   "outputs": [
    {
     "name": "stdout",
     "output_type": "stream",
     "text": [
      "[1 2 3 4 5 6 7 8]\n"
     ]
    }
   ],
   "source": [
    "import numpy as np\n",
    "\n",
    "arr = np.array([[1,2,3,4] , [5,6,7,8]])\n",
    "print(arr.reshape(-1))"
   ]
  },
  {
   "attachments": {},
   "cell_type": "markdown",
   "metadata": {},
   "source": [
    "# Numpy Array Iteration"
   ]
  },
  {
   "cell_type": "code",
   "execution_count": 5,
   "metadata": {},
   "outputs": [
    {
     "name": "stdout",
     "output_type": "stream",
     "text": [
      "1\n",
      "2\n",
      "3\n",
      "1\n",
      "2\n",
      "3\n",
      "[1 2 3]\n",
      "4\n",
      "5\n",
      "6\n",
      "[4 5 6]\n"
     ]
    }
   ],
   "source": [
    "import numpy as np\n",
    "\n",
    "arr = np.array([1,2,3])\n",
    "for x in arr:\n",
    "    print(x)\n",
    "\n",
    "arr2 = np.array([[1,2,3],[4,5,6]])\n",
    "for x in arr2:\n",
    "    for y in x:\n",
    "        print(y)\n",
    "    print(x)\n",
    "    "
   ]
  },
  {
   "attachments": {},
   "cell_type": "markdown",
   "metadata": {},
   "source": [
    "### Iterating Arrays Using nditer()"
   ]
  },
  {
   "cell_type": "code",
   "execution_count": 7,
   "metadata": {},
   "outputs": [
    {
     "name": "stdout",
     "output_type": "stream",
     "text": [
      "1\n",
      "2\n",
      "3\n",
      "4\n",
      "5\n",
      "6\n",
      "7\n",
      "8\n"
     ]
    }
   ],
   "source": [
    "import numpy as np\n",
    "arr = np.array([[[1,2], [3,4]],[[5,6],[7,8]]])\n",
    "for x in np.nditer(arr):\n",
    "    print(x)"
   ]
  },
  {
   "attachments": {},
   "cell_type": "markdown",
   "metadata": {},
   "source": [
    "### Iterating Array with Different Data Types"
   ]
  },
  {
   "cell_type": "code",
   "execution_count": 3,
   "metadata": {},
   "outputs": [
    {
     "name": "stdout",
     "output_type": "stream",
     "text": [
      "b'1'\n",
      "b'2'\n",
      "b'3'\n",
      "b'4'\n",
      "b'5'\n"
     ]
    }
   ],
   "source": [
    "import numpy as np\n",
    "arr = np.array([1,2,3,4,5])\n",
    "\n",
    "for i in np.nditer(arr , flags=['buffered'] , op_dtypes=['S']):\n",
    "    print(i)\n",
    "\n"
   ]
  },
  {
   "attachments": {},
   "cell_type": "markdown",
   "metadata": {},
   "source": [
    "###  Enumerated Iteration Using ndenumerate()"
   ]
  },
  {
   "attachments": {},
   "cell_type": "markdown",
   "metadata": {},
   "source": [
    "Enumeration means mentioning sequence number of somethings one by one. Sometime we require corrsponding index of the element while iterating, the ndenumerate() method can be used fot those usecases."
   ]
  },
  {
   "cell_type": "code",
   "execution_count": 4,
   "metadata": {},
   "outputs": [
    {
     "name": "stdout",
     "output_type": "stream",
     "text": [
      "(0,) 1\n",
      "(1,) 2\n",
      "(2,) 3\n"
     ]
    }
   ],
   "source": [
    "import numpy as np\n",
    "\n",
    "arr = np.array([1,2,3])\n",
    "for index , x in np.ndenumerate(arr):\n",
    "    print(index , x)"
   ]
  },
  {
   "attachments": {},
   "cell_type": "markdown",
   "metadata": {},
   "source": [
    "# NumPy Joining Array"
   ]
  },
  {
   "attachments": {},
   "cell_type": "markdown",
   "metadata": {},
   "source": [
    "1. concatenation"
   ]
  },
  {
   "cell_type": "code",
   "execution_count": 14,
   "metadata": {},
   "outputs": [
    {
     "name": "stdout",
     "output_type": "stream",
     "text": [
      "[[1 2]\n",
      " [3 4]\n",
      " [5 6]\n",
      " [7 8]]\n",
      "[[1 2 5 6]\n",
      " [3 4 7 8]]\n",
      "[[[1 2]\n",
      "  [5 6]]\n",
      "\n",
      " [[3 4]\n",
      "  [7 8]]]\n"
     ]
    }
   ],
   "source": [
    "import numpy as np\n",
    "\n",
    "arr1 = np.array([[1,2],[3,4]])\n",
    "arr2 = np.array([[5,6],[7,8]])\n",
    "\n",
    "print(np.concatenate((arr1 , arr2) , axis = 0))#the arrays are joined as a column.\n",
    "print(np.concatenate((arr1 , arr2) , axis  = 1)) # arrays are joined as a row"
   ]
  },
  {
   "attachments": {},
   "cell_type": "markdown",
   "metadata": {},
   "source": [
    "#### Joining Arrays using Stack Functions"
   ]
  },
  {
   "cell_type": "code",
   "execution_count": 25,
   "metadata": {},
   "outputs": [
    {
     "name": "stdout",
     "output_type": "stream",
     "text": [
      "[['🍇' '🍈' '🍉' '🍊' '🍋' '🍌']\n",
      " ['🍍' '🥭' '🍎' '🍏' '🍐' '🍑']]\n",
      "------------------------\n",
      "[['🍇' '🍍']\n",
      " ['🍈' '🥭']\n",
      " ['🍉' '🍎']\n",
      " ['🍊' '🍏']\n",
      " ['🍋' '🍐']\n",
      " ['🍌' '🍑']]\n",
      "['🍇' '🍈' '🍉' '🍊' '🍋' '🍌' '🍍' '🥭' '🍎' '🍏' '🍐' '🍑']\n",
      "[['🍇' '🍈' '🍉' '🍊' '🍋' '🍌']\n",
      " ['🍍' '🥭' '🍎' '🍏' '🍐' '🍑']]\n",
      "[[['🍇' '🍍']\n",
      "  ['🍈' '🥭']\n",
      "  ['🍉' '🍎']\n",
      "  ['🍊' '🍏']\n",
      "  ['🍋' '🍐']\n",
      "  ['🍌' '🍑']]]\n"
     ]
    }
   ],
   "source": [
    "import numpy as np \n",
    "\n",
    "fruit1 = np.array(['🍇','🍈','🍉','🍊','🍋','🍌'])\n",
    "fruit2 = np.array(['🍍','🥭','🍎','🍏','🍐','🍑'])\n",
    "print(np.stack((fruit1 , fruit2) , axis = 0))\n",
    "print('------------------------')\n",
    "print(np.stack((fruit1 , fruit2) , axis = 1))\n",
    "print(np.hstack((fruit1 , fruit2)))#it stacks arrays horizontally\n",
    "print(np.vstack((fruit1 ,fruit2)))#it stacks arrays vertically\n",
    "print(np.dstack((fruit1 , fruit2)))#it stacks arrays along the depth"
   ]
  },
  {
   "attachments": {},
   "cell_type": "markdown",
   "metadata": {},
   "source": [
    "### NumPy Splitting Array"
   ]
  },
  {
   "cell_type": "code",
   "execution_count": 35,
   "metadata": {},
   "outputs": [
    {
     "name": "stdout",
     "output_type": "stream",
     "text": [
      "['🍇' '🍈' '🍉']\n",
      "['🍊' '🍋' '🍌']\n"
     ]
    }
   ],
   "source": [
    "import numpy as np\n",
    "\n",
    "fruit = np.array(['🍇' ,'🍈', '🍉', '🍊', '🍋', '🍌'])\n",
    "new_fruit = np.array_split(fruit , 2)\n",
    "print(new_fruit[0])\n",
    "print(new_fruit[1])\n",
    "\n",
    "    "
   ]
  },
  {
   "attachments": {},
   "cell_type": "markdown",
   "metadata": {},
   "source": [
    "#### Splitting 2D arrays"
   ]
  },
  {
   "cell_type": "code",
   "execution_count": 41,
   "metadata": {},
   "outputs": [
    {
     "name": "stdout",
     "output_type": "stream",
     "text": [
      "[array([['🍇', '🍈', '🍉']], dtype='<U1'), array([['🍊', '🍋', '🍌']], dtype='<U1')]\n",
      "[array([['🍇', '🍈'],\n",
      "       ['🍊', '🍋']], dtype='<U1'), array([['🍉'],\n",
      "       ['🍌']], dtype='<U1')]\n"
     ]
    }
   ],
   "source": [
    "import numpy as np\n",
    "fruit = np.array([['🍇' ,'🍈', '🍉'], ['🍊', '🍋', '🍌']])\n",
    "new_fruits = np.array_split(fruit , 2)\n",
    "print(new_fruits) #It returns a 2D array.\n",
    "print(np.array_split(fruit , 2 , axis = 1))\n"
   ]
  },
  {
   "attachments": {},
   "cell_type": "markdown",
   "metadata": {},
   "source": [
    "### NumPy Searching Arrays"
   ]
  },
  {
   "cell_type": "code",
   "execution_count": 47,
   "metadata": {},
   "outputs": [
    {
     "name": "stdout",
     "output_type": "stream",
     "text": [
      "(array([1, 3, 5], dtype=int64),)\n",
      "(array([0, 2, 4], dtype=int64),)\n"
     ]
    }
   ],
   "source": [
    "import numpy as np\n",
    "\n",
    "my_array = np.array([1,2,3,2,5,2])\n",
    "print(np.where(my_array == 2))\n",
    "\n",
    "#finding values that are odd\n",
    "print(np.where(my_array%2 == 1))\n",
    "\n"
   ]
  },
  {
   "attachments": {},
   "cell_type": "markdown",
   "metadata": {},
   "source": [
    "#### Search Sorted"
   ]
  },
  {
   "attachments": {},
   "cell_type": "markdown",
   "metadata": {},
   "source": [
    "The searchsorted() method performs a ninayr search in the array, and returns the index where the specified value would be inserted to maintain the search order."
   ]
  },
  {
   "cell_type": "code",
   "execution_count": 2,
   "metadata": {},
   "outputs": [
    {
     "name": "stdout",
     "output_type": "stream",
     "text": [
      "3\n",
      "4\n"
     ]
    }
   ],
   "source": [
    "import numpy as np\n",
    "\n",
    "my_arr = np.array([1,2,3,4,5,6,7,8])\n",
    "print(np.searchsorted(my_arr ,4 ))\n",
    "#It will print the index of the specified value where order is maintained.\n",
    "print(np.searchsorted(my_arr , 4 , side= 'right'))\n",
    "#By specifing the side the function will return the index where it should be placed,"
   ]
  },
  {
   "cell_type": "code",
   "execution_count": 3,
   "metadata": {},
   "outputs": [
    {
     "name": "stdout",
     "output_type": "stream",
     "text": [
      "[0 3 5]\n"
     ]
    }
   ],
   "source": [
    "#To search for multiple values\n",
    "import numpy as np\n",
    "\n",
    "arr = np.array([1,2,3,4,5])\n",
    "print(np.searchsorted(arr , [1,4,7]))"
   ]
  },
  {
   "attachments": {},
   "cell_type": "markdown",
   "metadata": {},
   "source": [
    "## Numpy Sorting Arrays"
   ]
  },
  {
   "cell_type": "code",
   "execution_count": 7,
   "metadata": {},
   "outputs": [
    {
     "name": "stdout",
     "output_type": "stream",
     "text": [
      "[1 2 3 4 5 6]\n",
      "['apple' 'banana' 'cherry']\n",
      "[False  True  True]\n",
      "[[3 4 6]\n",
      " [1 2 5]]\n"
     ]
    }
   ],
   "source": [
    "num = np.array([6,3,5,1,2,4])\n",
    "print(np.sort(num))\n",
    "#We can also sort strings alphabetically\n",
    "fruits = np.array(['banana' ,'cherry', 'apple'])\n",
    "print(np.sort(fruits))\n",
    "#We can also sort boolean arrays.\n",
    "my_arr = np.array([True , False , True])\n",
    "print(np.sort(my_arr))\n",
    "#Sorting 2D arrays\n",
    "arr2 = np.array([[4,3,6],[5,1,2]])\n",
    "print(np.sort(arr2))"
   ]
  },
  {
   "attachments": {},
   "cell_type": "markdown",
   "metadata": {},
   "source": [
    "## NumPy Filter Array"
   ]
  },
  {
   "attachments": {},
   "cell_type": "markdown",
   "metadata": {},
   "source": [
    "Getting some elements out of an existing aray and creating a new array out of them is called filtering.\n",
    "- In NumPy , we use boolean index list to filter an array.\n",
    "- A boolean index list is a list of booleans corresponding to indexes in the array."
   ]
  },
  {
   "cell_type": "code",
   "execution_count": 8,
   "metadata": {},
   "outputs": [
    {
     "name": "stdout",
     "output_type": "stream",
     "text": [
      "[23 25]\n"
     ]
    }
   ],
   "source": [
    "arr = np.array([23 ,25,18,22])\n",
    "x = [True , True , False ,False]\n",
    "new_arr = arr[x]#It will assign the elements whose index has True in corresponding array\n",
    "print(new_arr)\n",
    "\n",
    "#"
   ]
  },
  {
   "attachments": {},
   "cell_type": "markdown",
   "metadata": {},
   "source": [
    "The common use is to create a filter array based on conditions."
   ]
  },
  {
   "cell_type": "code",
   "execution_count": 11,
   "metadata": {},
   "outputs": [
    {
     "name": "stdout",
     "output_type": "stream",
     "text": [
      "[True, False, True, True, True]\n",
      "[22 46 76 90]\n"
     ]
    }
   ],
   "source": [
    "arr = np.array([22 ,21, 46,76,90])\n",
    "\n",
    "#Creating an empty list which will contain all the boolean values\n",
    "filter_arr = []\n",
    "\n",
    "for elements in arr :\n",
    "    if elements % 2 == 0:\n",
    "        filter_arr.append(True)\n",
    "    else:\n",
    "        filter_arr.append(False)\n",
    "new_arr = arr[filter_arr]\n",
    "print(filter_arr)\n",
    "print(new_arr)"
   ]
  },
  {
   "attachments": {},
   "cell_type": "markdown",
   "metadata": {},
   "source": [
    "We can do above task in a simple way."
   ]
  },
  {
   "cell_type": "code",
   "execution_count": 12,
   "metadata": {},
   "outputs": [
    {
     "name": "stdout",
     "output_type": "stream",
     "text": [
      "[22 46 76 90]\n"
     ]
    }
   ],
   "source": [
    "arr = np.array([22 ,21, 46,76,90])\n",
    "\n",
    "filter_arr = arr % 2 == 0\n",
    "new_arr = arr[filter_arr]\n",
    "print(new_arr)"
   ]
  }
 ],
 "metadata": {
  "kernelspec": {
   "display_name": "Python 3",
   "language": "python",
   "name": "python3"
  },
  "language_info": {
   "codemirror_mode": {
    "name": "ipython",
    "version": 3
   },
   "file_extension": ".py",
   "mimetype": "text/x-python",
   "name": "python",
   "nbconvert_exporter": "python",
   "pygments_lexer": "ipython3",
   "version": "3.11.2"
  },
  "orig_nbformat": 4
 },
 "nbformat": 4,
 "nbformat_minor": 2
}
